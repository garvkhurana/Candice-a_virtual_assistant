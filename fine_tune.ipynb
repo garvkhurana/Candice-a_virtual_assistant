{
 "cells": [
  {
   "cell_type": "code",
   "execution_count": null,
   "id": "77de2d15",
   "metadata": {},
   "outputs": [],
   "source": [
    "import ultralytics\n",
    "ultralytics.checks()"
   ]
  },
  {
   "cell_type": "code",
   "execution_count": null,
   "id": "c24cb39b",
   "metadata": {},
   "outputs": [],
   "source": [
    "from roboflow import Roboflow\n",
    "rf = Roboflow(api_key=\"nnVaKEa8lZd2gtAkqsBo\")\n",
    "project = rf.workspace(\"garv-quaoe\").project(\"custom-workflow-object-detection-a0v8p\")\n",
    "version = project.version(1)\n",
    "dataset = version.download(\"yolov11\")"
   ]
  },
  {
   "cell_type": "code",
   "execution_count": null,
   "id": "5b59c3cc",
   "metadata": {},
   "outputs": [],
   "source": [
    "import torch\n",
    "print(torch.version.cuda)\n",
    "print(torch.cuda.is_available())\n",
    "print(torch.cuda.get_device_name(0))"
   ]
  },
  {
   "cell_type": "code",
   "execution_count": null,
   "id": "a947e574",
   "metadata": {},
   "outputs": [],
   "source": [
    "from ultralytics import YOLO\n",
    "model = YOLO(\"yolo11s.pt\")"
   ]
  },
  {
   "cell_type": "code",
   "execution_count": null,
   "id": "8e94b456",
   "metadata": {},
   "outputs": [],
   "source": [
    "from ultralytics import YOLO\n",
    "\n",
    "model = YOLO(\"yolo11s.pt\")\n",
    "\n",
    "model.train(\n",
    "    data=\"C:\\Users\\garvk\\OneDrive - Bhagwan Parshuram Institute of Technology\\Desktop\\advance_projects\\candice\\Custom Workflow Object Detection.v2i.yolov11\\data.yaml\",\n",
    "    epochs=65,\n",
    "    imgsz=512,         \n",
    "    batch=4,           \n",
    "    device=0,          \n",
    "    half=True,         \n",
    "    workers=2,\n",
    "    optimizer=\"AdamW\",\n",
    "    patience=10,\n",
    "    name=\"yolo11s_finetuned\"\n",
    ")\n"
   ]
  },
  {
   "cell_type": "code",
   "execution_count": null,
   "id": "2984e50e",
   "metadata": {},
   "outputs": [],
   "source": []
  }
 ],
 "metadata": {
  "kernelspec": {
   "display_name": "Python 3",
   "language": "python",
   "name": "python3"
  },
  "language_info": {
   "codemirror_mode": {
    "name": "ipython",
    "version": 3
   },
   "file_extension": ".py",
   "mimetype": "text/x-python",
   "name": "python",
   "nbconvert_exporter": "python",
   "pygments_lexer": "ipython3",
   "version": "3.10.0"
  }
 },
 "nbformat": 4,
 "nbformat_minor": 5
}
